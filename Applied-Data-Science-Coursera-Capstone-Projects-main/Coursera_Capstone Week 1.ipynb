{
 "cells": [
  {
   "cell_type": "markdown",
   "id": "09ddf148",
   "metadata": {},
   "source": [
    "### This is a notebook that will be mainly used for the capstone project."
   ]
  },
  {
   "cell_type": "markdown",
   "id": "bd850f8c",
   "metadata": {},
   "source": [
    "The first lines of this <i> notebook </i> concern the Week 1 <b> assignment. </b>"
   ]
  },
  {
   "cell_type": "code",
   "execution_count": 1,
   "id": "57763da4",
   "metadata": {},
   "outputs": [],
   "source": [
    "# import packages\n",
    "import numpy as np\n",
    "import pandas as pd"
   ]
  },
  {
   "cell_type": "code",
   "execution_count": 2,
   "id": "c3d4cfb5",
   "metadata": {},
   "outputs": [
    {
     "name": "stdout",
     "output_type": "stream",
     "text": [
      "Hello Capstone Project Course!\n"
     ]
    }
   ],
   "source": [
    "print(\"Hello Capstone Project Course!\")"
   ]
  }
 ],
 "metadata": {
  "kernelspec": {
   "display_name": "Python 3 (ipykernel)",
   "language": "python",
   "name": "python3"
  },
  "language_info": {
   "codemirror_mode": {
    "name": "ipython",
    "version": 3
   },
   "file_extension": ".py",
   "mimetype": "text/x-python",
   "name": "python",
   "nbconvert_exporter": "python",
   "pygments_lexer": "ipython3",
   "version": "3.9.0"
  }
 },
 "nbformat": 4,
 "nbformat_minor": 5
}
